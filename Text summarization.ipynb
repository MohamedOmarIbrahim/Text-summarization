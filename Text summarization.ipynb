{
 "cells": [
  {
   "cell_type": "code",
   "execution_count": 5,
   "id": "41f3b45d",
   "metadata": {},
   "outputs": [
    {
     "name": "stderr",
     "output_type": "stream",
     "text": [
      "[nltk_data] Downloading package stopwords to\n",
      "[nltk_data]     C:\\Users\\moham\\AppData\\Roaming\\nltk_data...\n",
      "[nltk_data]   Package stopwords is already up-to-date!\n",
      "[nltk_data] Downloading package punkt to\n",
      "[nltk_data]     C:\\Users\\moham\\AppData\\Roaming\\nltk_data...\n",
      "[nltk_data]   Package punkt is already up-to-date!\n",
      "[nltk_data] Downloading package wordnet to\n",
      "[nltk_data]     C:\\Users\\moham\\AppData\\Roaming\\nltk_data...\n",
      "[nltk_data]   Package wordnet is already up-to-date!\n",
      "[nltk_data] Downloading package averaged_perceptron_tagger to\n",
      "[nltk_data]     C:\\Users\\moham\\AppData\\Roaming\\nltk_data...\n",
      "[nltk_data]   Package averaged_perceptron_tagger is already up-to-\n",
      "[nltk_data]       date!\n",
      "[nltk_data] Downloading package maxent_ne_chunker to\n",
      "[nltk_data]     C:\\Users\\moham\\AppData\\Roaming\\nltk_data...\n",
      "[nltk_data]   Package maxent_ne_chunker is already up-to-date!\n",
      "[nltk_data] Downloading package words to\n",
      "[nltk_data]     C:\\Users\\moham\\AppData\\Roaming\\nltk_data...\n",
      "[nltk_data]   Package words is already up-to-date!\n"
     ]
    }
   ],
   "source": [
    "nltk.download('stopwords')\n",
    "nltk.download('punkt')\n",
    "nltk.download('wordnet')\n",
    "nltk.download('averaged_perceptron_tagger')\n",
    "nltk.download('maxent_ne_chunker')\n",
    "nltk.download('words')\n",
    "from nltk.corpus import stopwords\n",
    "from nltk.tag import pos_tag, StanfordNERTagger"
   ]
  },
  {
   "cell_type": "code",
   "execution_count": 7,
   "id": "e003226c",
   "metadata": {},
   "outputs": [
    {
     "name": "stdout",
     "output_type": "stream",
     "text": [
      "Original Text:\n",
      "function req:\n",
      "1. *Real-time Interaction:* The chatbot should provide immediate responses to user queries or emergencies, ensuring minimal delay.\n",
      "\n",
      "2. *Emergency Response:* Ability to recognize and respond to urgent medical situations, providing appropriate guidance or initiating emergency services.\n",
      "\n",
      "3-Medical Information:* Offer accurate and reliable medical information, including first aid procedures and general medical advice.\n",
      "\n",
      "4-emergecy call : easliy access to emergecy numbers with simple button \n",
      "\n",
      "5-ui-ux : simple design to interact with \n",
      "\n",
      "6-get location : easily access to location in emergecies \n",
      "\n",
      "### Non-Functional Requirements:\n",
      "\n",
      "1. *Reliability:* The chatbot should be available and responsive 24/7 without downtime.\n",
      "\n",
      "2. *Security:* Ensure the confidentiality of user information and compliance with data protection regulations (like GDPR, HIPAA).\n",
      "\n",
      "3. *Scalability:* Capability to handle multiple concurrent users during peak times or emergencies without a decline in performance.\n",
      "\n",
      "4. *Accuracy and Precision:* Provide accurate medical information and responses to ensure user trust and safety.\n",
      "\n",
      "5. *Ease of Use:* User-friendly interface with clear instructions and simple navigation, especially during stressful situations.\n",
      "\n",
      "6. *Performance:* Fast response times to maintain user engagement and provide timely assistance.\n",
      "\n",
      "7. *Accessibility:* Ensure compatibility across various devices and platforms for broader accessibility\n",
      "\n",
      "\n",
      "\n",
      "Summary:\n",
      "4-emergecy call : easliy access to emergecy numbers with simple button \n",
      "\n",
      "5-ui-ux : simple design to interact with \n",
      "\n",
      "6-get location : easily access to location in emergecies \n",
      "\n",
      "### Non-Functional Requirements:\n",
      "\n",
      "1. *Accuracy and Precision:* Provide accurate medical information and responses to ensure user trust and safety.\n"
     ]
    }
   ],
   "source": [
    "import nltk\n",
    "from nltk.tokenize import sent_tokenize\n",
    "from nltk.corpus import stopwords\n",
    "from nltk.probability import FreqDist\n",
    " \n",
    "file = open(\"fuction and non func.txt\")\n",
    "text = file.read()\n",
    "\n",
    "sentences = sent_tokenize(text)\n",
    "\n",
    "# Remove stopwords\n",
    "stop_words = set(stopwords.words('english'))\n",
    "filtered_sentences = [sentence for sentence in sentences if sentence.lower() not in stop_words]\n",
    "\n",
    "# Calculate word frequency in each sentence\n",
    "word_freq = FreqDist(nltk.word_tokenize(text.lower()))\n",
    "\n",
    "# Calculate sentence importance scores based on word frequency\n",
    "sentence_scores = {sentence: sum(word_freq[word] for word in nltk.word_tokenize(sentence.lower())) \n",
    "                   for sentence in filtered_sentences}\n",
    "\n",
    "# Sort sentences by importance scores in descending order\n",
    "sorted_sentences = sorted(sentence_scores.items(), key=lambda x: x[1], reverse=True)\n",
    "\n",
    "# Select top N sentences for the summary\n",
    "num_sentences_in_summary = 2\n",
    "summary_sentences = sorted_sentences[:num_sentences_in_summary]\n",
    "\n",
    "# Generate the final summary\n",
    "summary = ' '.join(sentence for sentence, score in summary_sentences)\n",
    "\n",
    "print(\"Original Text:\")\n",
    "print(text)\n",
    "print(\"\\nSummary:\")\n",
    "print(summary)"
   ]
  },
  {
   "cell_type": "code",
   "execution_count": null,
   "id": "1c494044",
   "metadata": {},
   "outputs": [],
   "source": []
  }
 ],
 "metadata": {
  "kernelspec": {
   "display_name": "Python 3 (ipykernel)",
   "language": "python",
   "name": "python3"
  },
  "language_info": {
   "codemirror_mode": {
    "name": "ipython",
    "version": 3
   },
   "file_extension": ".py",
   "mimetype": "text/x-python",
   "name": "python",
   "nbconvert_exporter": "python",
   "pygments_lexer": "ipython3",
   "version": "3.9.12"
  }
 },
 "nbformat": 4,
 "nbformat_minor": 5
}
